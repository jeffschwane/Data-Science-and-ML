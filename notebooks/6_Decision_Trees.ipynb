{
 "cells": [
  {
   "cell_type": "code",
   "execution_count": 1,
   "metadata": {},
   "outputs": [],
   "source": [
    "import numpy as np\n",
    "import pandas as pd\n",
    "import matplotlib.pyplot as plt\n",
    "\n",
    "#preprocessing\n",
    "from sklearn.preprocessing import StandardScaler, MinMaxScaler\n",
    "\n",
    "# classifier we will use\n",
    "from sklearn.tree import DecisionTreeClassifier\n",
    "\n",
    "# model selection bits\n",
    "from sklearn.model_selection import train_test_split\n",
    "\n",
    "# evaluation\n",
    "from sklearn.metrics import f1_score\n",
    "from sklearn.metrics import accuracy_score\n"
   ]
  },
  {
   "cell_type": "markdown",
   "metadata": {},
   "source": [
    "# Detecting Spam with Decision Trees\n",
    "\n",
    "In this assignment you will detect spam with decision trees. It's always important to investigate the data that you are using for any project. Since data is our gold mine, it's our oil that powers our models we need to have good quality data. Machine learning follows the \"garbage in, garbage out\" principle, if we feed in bad data for training, we will get a model that produces bad results.  For these reasons we want to answer the following questions.\n",
    "\n",
    "## 0.  Learn about the data\n",
    "\n",
    "1. Where did this data come from? George Forman at HP (filed work and personal emails), spam e-mails came from their postmaster and individuals who had filed spam\n",
    "2. Who made it? HP company in 1999 (Mark Hopkins, Erik Reeber, George Forman, Jaap Suermondt)\n",
    "3. How were the features selected? Not sure, but seems to be frequent words and sequences that came up in the spam emails\n",
    "4. Can you trust it? Yes, though this is specific to the individual (George). They noted that more data would be needed to make it more general.\n",
    "\n",
    "Go ahead and scan through the spambase_features.txt file and the spambase.txt file.  These two files provide information about the dataset, how it was curated and where it came from. Then try to answer the above questions.\n",
    "\n",
    "\n",
    "## 1. Load the data"
   ]
  },
  {
   "cell_type": "code",
   "execution_count": 2,
   "metadata": {},
   "outputs": [],
   "source": [
    "## we are going to hardcode the column names, because this just makes it a little easier to use pandas.\n",
    "\n",
    "names = ['word_freq_make:        ',\n",
    "'word_freq_address:     ',\n",
    "'word_freq_all:         ',\n",
    "'word_freq_3d:          ',\n",
    "'word_freq_our:         ',\n",
    "'word_freq_over:        ',\n",
    "'word_freq_remove:      ',\n",
    "'word_freq_internet:    ',\n",
    "'word_freq_order:       ',\n",
    "'word_freq_mail:        ',\n",
    "'word_freq_receive:     ',\n",
    "'word_freq_will:        ',\n",
    "'word_freq_people:      ',\n",
    "'word_freq_report:      ',\n",
    "'word_freq_addresses:   ',\n",
    "'word_freq_free:        ',\n",
    "'word_freq_business:    ',\n",
    "'word_freq_email:       ',\n",
    "'word_freq_you:         ',\n",
    "'word_freq_credit:      ',\n",
    "'word_freq_your:        ',\n",
    "'word_freq_font:        ',\n",
    "'word_freq_000:         ',\n",
    "'word_freq_money:       ',\n",
    "'word_freq_hp:          ',\n",
    "'word_freq_hpl:         ',\n",
    "'word_freq_george:      ',\n",
    "'word_freq_650:         ',\n",
    "'word_freq_lab:         ',\n",
    "'word_freq_labs:        ',\n",
    "'word_freq_telnet:      ',\n",
    "'word_freq_857:         ',\n",
    "'word_freq_data:        ',\n",
    "'word_freq_415:         ',\n",
    "'word_freq_85:          ',\n",
    "'word_freq_technology:  ',\n",
    "'word_freq_1999:        ',\n",
    "'word_freq_parts:       ',\n",
    "'word_freq_pm:          ',\n",
    "'word_freq_direct:      ',\n",
    "'word_freq_cs:          ',\n",
    "'word_freq_meeting:     ',\n",
    "'word_freq_original:    ',\n",
    "'word_freq_project:     ',\n",
    "'word_freq_re:          ',\n",
    "'word_freq_edu:         ',\n",
    "'word_freq_table:       ',\n",
    "'word_freq_conference:  ',\n",
    "'char_freq_;:           ',\n",
    "'char_freq_(:           ',\n",
    "'char_freq_[:           ',\n",
    "'char_freq_!:           ',\n",
    "'char_freq_$:           ',\n",
    "'char_freq_#:           ',\n",
    "'capital_run_length_average',\n",
    "'capital_run_length_longest',\n",
    "'capital_run_length_total: ',\n",
    "'label']\n",
    "          "
   ]
  },
  {
   "cell_type": "code",
   "execution_count": 3,
   "metadata": {},
   "outputs": [],
   "source": [
    "## Load in the dataset here \n",
    "\n",
    "data = pd.read_csv('spambase/spambase.csv', names = names)\n",
    "X = data.drop('label', axis = 1)\n",
    "y = data.label"
   ]
  },
  {
   "cell_type": "markdown",
   "metadata": {},
   "source": [
    "## 2. Preprocess the data if needed\n",
    "\n",
    "1. Are there any empty values?\n",
    "2. Do you need to transform the data?\n",
    "3. What is the distribution of the positive and negative classes?\n",
    "4. Split the data into training and testing sets\n",
    "\n",
    "Let me give a few hints.  When it comes to scaling the data, we normally just _should_, but in this case we are going to be working with decision trees and I think we learned that they have an interesting property!  \n",
    "\n",
    "We want to look at the distribution of positive (spam) and negative (ham) classes.  So basically we need to look at the count of the labels.  You can use the function `.value_counts()` on `y`.  Note that the function `value_counts` is specific to the Series class, it doesn't work on Dataframes.  Now it's not just enough to look at the raw numbers, I suggest you calculate statistics like \"what percentage of my data is ham? What percentage is spam?  This may help you decide if you should use the `stratify` keyword when splitting your data.\n"
   ]
  },
  {
   "cell_type": "code",
   "execution_count": 4,
   "metadata": {},
   "outputs": [
    {
     "data": {
      "text/plain": [
       "0    2788\n",
       "1    1813\n",
       "Name: label, dtype: int64"
      ]
     },
     "execution_count": 4,
     "metadata": {},
     "output_type": "execute_result"
    }
   ],
   "source": [
    "y.value_counts()"
   ]
  },
  {
   "cell_type": "code",
   "execution_count": 7,
   "metadata": {},
   "outputs": [
    {
     "data": {
      "text/plain": [
       "0.6059552271245382"
      ]
     },
     "execution_count": 7,
     "metadata": {},
     "output_type": "execute_result"
    }
   ],
   "source": [
    "2788 / (2788+1813)"
   ]
  },
  {
   "cell_type": "code",
   "execution_count": 8,
   "metadata": {},
   "outputs": [
    {
     "data": {
      "text/plain": [
       "0.39404477287546186"
      ]
     },
     "execution_count": 8,
     "metadata": {},
     "output_type": "execute_result"
    }
   ],
   "source": [
    "1813 / (2788+1813)"
   ]
  },
  {
   "cell_type": "code",
   "execution_count": 9,
   "metadata": {},
   "outputs": [],
   "source": [
    "## Split your data with 70% for training, this is somewhat random, but this is how I will do it in the \n",
    "## solution video so you will have similar results. Feel free to change this value and experiment if you like.\n",
    "\n",
    "X_train, X_test, y_train, y_test = train_test_split(X, y, test_size = 0.3)\n"
   ]
  },
  {
   "cell_type": "markdown",
   "metadata": {},
   "source": [
    "## 3. Train a Decision Tree Classifier\n",
    "\n",
    "1. What metric should we use? The f1-score or accuracy?\n",
    "\n",
    "Let's start with a default model, we won't specify any settings on the decision tree model for the first training. The following will be a 3-step process\n",
    " * training\n",
    " * getting predictions\n",
    " * evaluating our predictions\n",
    " \n",
    "The question does arise, what should we check our predictions on? The obvious answer is that we should check the predictions on our testing set. That's the set of data that simulates our future unseen data. However in our quest to figure out if we are overfitting or not, it could be very useful to look at the performance of the training set.  Remember when we overfit our polynomials and they touched every point? But then we added data the performance would drop. Similarly if the perfomance of the training data is near perfect, but the testing data is much worse, that _gap_ indicates overfitting. So we will check both training and testing performance.\n"
   ]
  },
  {
   "cell_type": "code",
   "execution_count": 10,
   "metadata": {},
   "outputs": [
    {
     "data": {
      "text/plain": [
       "DecisionTreeClassifier()"
      ]
     },
     "execution_count": 10,
     "metadata": {},
     "output_type": "execute_result"
    }
   ],
   "source": [
    "## Train the model\n",
    "clf = DecisionTreeClassifier()\n",
    "clf.fit(X_train,y_train)"
   ]
  },
  {
   "cell_type": "code",
   "execution_count": 12,
   "metadata": {},
   "outputs": [],
   "source": [
    "## get predictions from the model on the training data and the testing data\n",
    "test_predictions = clf.predict(X_test)\n",
    "train_predictions = clf.predict(X_train)"
   ]
  },
  {
   "cell_type": "code",
   "execution_count": 13,
   "metadata": {},
   "outputs": [
    {
     "name": "stdout",
     "output_type": "stream",
     "text": [
      "0.8780019212295869\n"
     ]
    }
   ],
   "source": [
    "## evaluate the predictions\n",
    "## Note that the order of the arguments is **very** important for f1-score\n",
    "\n",
    "test_f1 = f1_score(y_test, test_predictions)\n",
    "print(test_f1)"
   ]
  },
  {
   "cell_type": "code",
   "execution_count": 15,
   "metadata": {},
   "outputs": [
    {
     "name": "stdout",
     "output_type": "stream",
     "text": [
      "0.9992283950617284\n"
     ]
    }
   ],
   "source": [
    "train_f1 = f1_score(y_train, train_predictions)\n",
    "print(train_f1)"
   ]
  },
  {
   "cell_type": "code",
   "execution_count": 16,
   "metadata": {},
   "outputs": [
    {
     "name": "stdout",
     "output_type": "stream",
     "text": [
      "0.9080376538740044\n"
     ]
    }
   ],
   "source": [
    "test_acc = accuracy_score(y_test, test_predictions)\n",
    "print(test_acc)"
   ]
  },
  {
   "cell_type": "code",
   "execution_count": 17,
   "metadata": {},
   "outputs": [
    {
     "name": "stdout",
     "output_type": "stream",
     "text": [
      "0.9993788819875776\n"
     ]
    }
   ],
   "source": [
    "train_acc = accuracy_score(y_train, train_predictions)\n",
    "print(train_acc)"
   ]
  },
  {
   "cell_type": "markdown",
   "metadata": {},
   "source": [
    "## 4. Did we overfit? Either way, let's try out some of the decision tree parameters\n",
    "\n",
    "Go ahead and try out some different tree parameters. \n",
    "\n",
    "* `max_depth`\n",
    "* `min_samples_split`\n",
    "* `min_samples_leaf`\n",
    "\n",
    "All three of these parameters will control the complexity of the tree.  Before you try them out, let's take a quick quiz:\n",
    "\n",
    "* increasing `max_depth` will : **Increase** or **Decrease** overfitting? Increase!\n",
    "* increasing `min_samples_split` will: **Increase** or **Decrease** overfitting? Decrease!\n",
    "* increasing `min_samples_leaf` will: **Increase** or **Decrease** overfitting? Decrease!\n",
    "\n",
    "It's very important to know the answer to these questions - because other wise you can't tune the parameters correctly. If you aren't sure go back and check the quiz on this very topic.\n",
    "\n",
    "Go ahead and try at least 3 values for each parameter. Then if you try 3 values for each combination, you actually would try 9 total parameters. You can see where this is going -- `for` loops! At this point I encourage you to just try whatever method you want, you can ad-hoc try different values or you can get robust with for-loops. Whatever you are inspired to do. The main point is to try out some values and see what you find.  What helps improve our testing performance the best?"
   ]
  },
  {
   "cell_type": "code",
   "execution_count": 19,
   "metadata": {},
   "outputs": [
    {
     "name": "stdout",
     "output_type": "stream",
     "text": [
      "F1 test = 0.6706161137440758 for max_depth=1, min_samples_split=2, min_samples_leaf=1\n",
      "F1 train = 0.6803239637922821 for max_depth=1, min_samples_split=2, min_samples_leaf=1\n",
      "F1 test = 0.6706161137440758 for max_depth=1, min_samples_split=2, min_samples_leaf=3\n",
      "F1 train = 0.6803239637922821 for max_depth=1, min_samples_split=2, min_samples_leaf=3\n",
      "F1 test = 0.6706161137440758 for max_depth=1, min_samples_split=2, min_samples_leaf=5\n",
      "F1 train = 0.6803239637922821 for max_depth=1, min_samples_split=2, min_samples_leaf=5\n",
      "F1 test = 0.6706161137440758 for max_depth=1, min_samples_split=3, min_samples_leaf=1\n",
      "F1 train = 0.6803239637922821 for max_depth=1, min_samples_split=3, min_samples_leaf=1\n",
      "F1 test = 0.6706161137440758 for max_depth=1, min_samples_split=3, min_samples_leaf=3\n",
      "F1 train = 0.6803239637922821 for max_depth=1, min_samples_split=3, min_samples_leaf=3\n",
      "F1 test = 0.6706161137440758 for max_depth=1, min_samples_split=3, min_samples_leaf=5\n",
      "F1 train = 0.6803239637922821 for max_depth=1, min_samples_split=3, min_samples_leaf=5\n",
      "F1 test = 0.6706161137440758 for max_depth=1, min_samples_split=4, min_samples_leaf=1\n",
      "F1 train = 0.6803239637922821 for max_depth=1, min_samples_split=4, min_samples_leaf=1\n",
      "F1 test = 0.6706161137440758 for max_depth=1, min_samples_split=4, min_samples_leaf=3\n",
      "F1 train = 0.6803239637922821 for max_depth=1, min_samples_split=4, min_samples_leaf=3\n",
      "F1 test = 0.6706161137440758 for max_depth=1, min_samples_split=4, min_samples_leaf=5\n",
      "F1 train = 0.6803239637922821 for max_depth=1, min_samples_split=4, min_samples_leaf=5\n",
      "F1 test = 0.7938931297709925 for max_depth=2, min_samples_split=2, min_samples_leaf=1\n",
      "F1 train = 0.8101487314085739 for max_depth=2, min_samples_split=2, min_samples_leaf=1\n",
      "F1 test = 0.7938931297709925 for max_depth=2, min_samples_split=2, min_samples_leaf=3\n",
      "F1 train = 0.8101487314085739 for max_depth=2, min_samples_split=2, min_samples_leaf=3\n",
      "F1 test = 0.7938931297709925 for max_depth=2, min_samples_split=2, min_samples_leaf=5\n",
      "F1 train = 0.8101487314085739 for max_depth=2, min_samples_split=2, min_samples_leaf=5\n",
      "F1 test = 0.7938931297709925 for max_depth=2, min_samples_split=3, min_samples_leaf=1\n",
      "F1 train = 0.8101487314085739 for max_depth=2, min_samples_split=3, min_samples_leaf=1\n",
      "F1 test = 0.7938931297709925 for max_depth=2, min_samples_split=3, min_samples_leaf=3\n",
      "F1 train = 0.8101487314085739 for max_depth=2, min_samples_split=3, min_samples_leaf=3\n",
      "F1 test = 0.7938931297709925 for max_depth=2, min_samples_split=3, min_samples_leaf=5\n",
      "F1 train = 0.8101487314085739 for max_depth=2, min_samples_split=3, min_samples_leaf=5\n",
      "F1 test = 0.7938931297709925 for max_depth=2, min_samples_split=4, min_samples_leaf=1\n",
      "F1 train = 0.8101487314085739 for max_depth=2, min_samples_split=4, min_samples_leaf=1\n",
      "F1 test = 0.7938931297709925 for max_depth=2, min_samples_split=4, min_samples_leaf=3\n",
      "F1 train = 0.8101487314085739 for max_depth=2, min_samples_split=4, min_samples_leaf=3\n",
      "F1 test = 0.7938931297709925 for max_depth=2, min_samples_split=4, min_samples_leaf=5\n",
      "F1 train = 0.8101487314085739 for max_depth=2, min_samples_split=4, min_samples_leaf=5\n",
      "F1 test = 0.8316086547507054 for max_depth=3, min_samples_split=2, min_samples_leaf=1\n",
      "F1 train = 0.8556311413454272 for max_depth=3, min_samples_split=2, min_samples_leaf=1\n",
      "F1 test = 0.8316086547507054 for max_depth=3, min_samples_split=2, min_samples_leaf=3\n",
      "F1 train = 0.8556311413454272 for max_depth=3, min_samples_split=2, min_samples_leaf=3\n",
      "F1 test = 0.8316086547507054 for max_depth=3, min_samples_split=2, min_samples_leaf=5\n",
      "F1 train = 0.8556311413454272 for max_depth=3, min_samples_split=2, min_samples_leaf=5\n",
      "F1 test = 0.8316086547507054 for max_depth=3, min_samples_split=3, min_samples_leaf=1\n",
      "F1 train = 0.8556311413454272 for max_depth=3, min_samples_split=3, min_samples_leaf=1\n",
      "F1 test = 0.8316086547507054 for max_depth=3, min_samples_split=3, min_samples_leaf=3\n",
      "F1 train = 0.8556311413454272 for max_depth=3, min_samples_split=3, min_samples_leaf=3\n",
      "F1 test = 0.8316086547507054 for max_depth=3, min_samples_split=3, min_samples_leaf=5\n",
      "F1 train = 0.8556311413454272 for max_depth=3, min_samples_split=3, min_samples_leaf=5\n",
      "F1 test = 0.8316086547507054 for max_depth=3, min_samples_split=4, min_samples_leaf=1\n",
      "F1 train = 0.8556311413454272 for max_depth=3, min_samples_split=4, min_samples_leaf=1\n",
      "F1 test = 0.8316086547507054 for max_depth=3, min_samples_split=4, min_samples_leaf=3\n",
      "F1 train = 0.8556311413454272 for max_depth=3, min_samples_split=4, min_samples_leaf=3\n",
      "F1 test = 0.8316086547507054 for max_depth=3, min_samples_split=4, min_samples_leaf=5\n",
      "F1 train = 0.8556311413454272 for max_depth=3, min_samples_split=4, min_samples_leaf=5\n"
     ]
    }
   ],
   "source": [
    "for max_d in [1,2,3]:\n",
    "    for min_ss in [2,3,4]:\n",
    "        for min_sl in [1,3,5]:\n",
    "            clf = DecisionTreeClassifier(max_depth=max_d,\n",
    "                                        min_samples_split=min_ss,\n",
    "                                        min_samples_leaf=min_sl)\n",
    "            clf.fit(X_train,y_train)\n",
    "            test_predictions = clf.predict(X_test)\n",
    "            train_predictions = clf.predict(X_train)\n",
    "            test_f1 = f1_score(y_test, test_predictions)\n",
    "            print(f'F1 test = {test_f1} for max_depth={max_d}, min_samples_split={min_ss}, min_samples_leaf={min_sl}')\n",
    "            train_f1 = f1_score(y_train, train_predictions)\n",
    "            print(f'F1 train = {train_f1} for max_depth={max_d}, min_samples_split={min_ss}, min_samples_leaf={min_sl}')"
   ]
  },
  {
   "cell_type": "code",
   "execution_count": null,
   "metadata": {},
   "outputs": [],
   "source": []
  },
  {
   "cell_type": "markdown",
   "metadata": {},
   "source": [
    "# Ok, now let's do it systematically\n",
    "\n",
    "Let's do it with some for loops. This will lead us to having more data than we can \"look\" at, so naturally we will plot it.\n",
    "I've started the for loop for you, you need to fill in the inner part."
   ]
  },
  {
   "cell_type": "code",
   "execution_count": 20,
   "metadata": {},
   "outputs": [
    {
     "name": "stdout",
     "output_type": "stream",
     "text": [
      "[0.8101487314085739, 0.8556311413454272, 0.8849918433931484, 0.9057824504650221, 0.9203396684189243, 0.9294210943695479, 0.944731610337972, 0.9539188656951555, 0.9593046226787831, 0.9697920753236563, 0.972276454509957, 0.9776558212465699, 0.9808219178082191, 0.9831702544031312, 0.9851446442533229, 0.98671875, 0.9871244635193133, 0.989522700814901, 0.9922299922299922, 0.9930124223602486, 0.9930124223602486, 0.9930124223602486, 0.9938223938223938, 0.9965183752417794, 0.9976816074188563, 0.998842145889618, 0.9992283950617284, 0.9992283950617284, 0.9992283950617284, 0.9992283950617284, 0.9992283950617284, 0.9992283950617284, 0.9992283950617284, 0.9992283950617284, 0.9992283950617284, 0.9992283950617284, 0.9992283950617284, 0.9992283950617284, 0.9992283950617284, 0.9992283950617284, 0.9992283950617284, 0.9992283950617284, 0.9992283950617284, 0.9992283950617284, 0.9992283950617284, 0.9992283950617284, 0.9992283950617284, 0.9992283950617284]\n",
      " \n",
      "[0.7938931297709925, 0.8316086547507054, 0.8521560574948664, 0.8661899897854954, 0.8725790010193679, 0.875751503006012, 0.878391959798995, 0.8787276341948311, 0.889110889110889, 0.8833992094861661, 0.8803921568627451, 0.8825831702544031, 0.8736532810969636, 0.8740157480314961, 0.87890625, 0.8741463414634145, 0.8713450292397661, 0.8753623188405797, 0.8718929254302104, 0.8816169393647738, 0.875239923224568, 0.8812260536398466, 0.8717948717948718, 0.86558627264061, 0.8697318007662835, 0.8802281368821293, 0.8774928774928775, 0.8708765315739868, 0.8703878902554399, 0.8796208530805687, 0.8742857142857143, 0.8771266540642721, 0.8728652751423149, 0.875829383886256, 0.8736942070275403, 0.876425855513308, 0.8831417624521073, 0.8713060057197332, 0.8776290630975144, 0.880611270296084, 0.8772597526165558, 0.8698955365622032, 0.8698955365622032, 0.8768939393939394, 0.8644549763033176, 0.8731060606060607, 0.8732125834127741, 0.8717948717948718]\n"
     ]
    }
   ],
   "source": [
    "train_results = []\n",
    "test_results = []\n",
    "for i in range(2,50): # feel free to change these, I just threw out a reasonable option here.\n",
    "    \n",
    "    dtc = DecisionTreeClassifier(max_depth=i)  #select a parameter to check\n",
    "    dtc.fit(X_train,y_train)         # train the model\n",
    "    test_predictions = dtc.predict(X_test)\n",
    "    train_predictions = dtc.predict(X_train)    # get predictions for both training and test\n",
    "    test_f1 = f1_score(y_test, test_predictions)\n",
    "    train_f1 = f1_score(y_train, train_predictions)\n",
    "    train_results.append(train_f1)\n",
    "    test_results.append(test_f1) # evaluate them and append them into the our lists.\n",
    "\n",
    "print(train_results)\n",
    "print ( \" \")\n",
    "print (test_results)"
   ]
  },
  {
   "cell_type": "markdown",
   "metadata": {},
   "source": [
    "## That's a lot of numbers!\n",
    "\n",
    "What do all those numbers tell us? Well we can pick out the best values using something like `np.max` and then we can relate it to the best parameter with the argument that correlates to that value (so depth 2 gave us .85 score etc).  But I think we'll find more interesting to plot these points.  I've provided the code for you below."
   ]
  },
  {
   "cell_type": "code",
   "execution_count": 21,
   "metadata": {},
   "outputs": [
    {
     "data": {
      "text/plain": [
       "<matplotlib.legend.Legend at 0x1c6e90aaa90>"
      ]
     },
     "execution_count": 21,
     "metadata": {},
     "output_type": "execute_result"
    },
    {
     "data": {
      "image/png": "[encoded data removed]",
      "text/plain": [
       "<Figure size 720x432 with 1 Axes>"
      ]
     },
     "metadata": {
      "needs_background": "light"
     },
     "output_type": "display_data"
    }
   ],
   "source": [
    "fig,ax = plt.subplots(figsize = (10,6));\n",
    "ax.plot(train_results, color = 'r', label = 'train')\n",
    "ax.plot(test_results, color = 'b', label = 'test')\n",
    "ax.legend()"
   ]
  },
  {
   "cell_type": "markdown",
   "metadata": {},
   "source": [
    "## This graph is called a validation curve\n",
    "\n",
    "What we have done is plotted the performance of the training and testing data against a parameter that was varied. How do we read this graph?\n",
    "What information can you glean?\n",
    "When does our model start to overfit?  \n",
    "Based on what you see here, what do you think the best choice for the parameter you were checking is?  That is, looking at the graph, what value would you choose for a spam detection model that you were going to deploy? Don't forget the purpose of the model!"
   ]
  },
  {
   "cell_type": "markdown",
   "metadata": {},
   "source": [
    "#### Your answers here"
   ]
  },
  {
   "cell_type": "markdown",
   "metadata": {},
   "source": [
    "Based on looking at the graph, the test data scores start to flatten out around a max depth of ~7 (index 5), whereas the train data scores continue to increase. This shows that any depth larger than ~7 will begin to overfit the model, so I would use that parameter.\n"
   ]
  },
  {
   "cell_type": "markdown",
   "metadata": {},
   "source": [
    "# Finally... we ... made a mistake!\n",
    "Do you see what the giant mistake we did? Go ahead and let us know below.\n",
    "If you don't see the mistake... don't worry I'll explain in the next unit!\n"
   ]
  },
  {
   "cell_type": "markdown",
   "metadata": {},
   "source": [
    "#### Your answer here"
   ]
  },
  {
   "cell_type": "markdown",
   "metadata": {},
   "source": [
    "The x-axis isn't the max_depth, it's the index position of the list value from 2 to 50."
   ]
  },
  {
   "cell_type": "code",
   "execution_count": null,
   "metadata": {},
   "outputs": [],
   "source": []
  }
 ],
 "metadata": {
  "kernelspec": {
   "display_name": "Python 3",
   "language": "python",
   "name": "python3"
  },
  "language_info": {
   "codemirror_mode": {
    "name": "ipython",
    "version": 3
   },
   "file_extension": ".py",
   "mimetype": "text/x-python",
   "name": "python",
   "nbconvert_exporter": "python",
   "pygments_lexer": "ipython3",
   "version": "3.8.3"
  }
 },
 "nbformat": 4,
 "nbformat_minor": 4
}
